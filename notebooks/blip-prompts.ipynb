{
 "cells": [
  {
   "cell_type": "code",
   "execution_count": 3,
   "id": "297528c9",
   "metadata": {},
   "outputs": [],
   "source": [
    "from transformers import Blip2Processor, Blip2ForConditionalGeneration\n",
    "from PIL import Image\n",
    "import torch\n",
    "\n",
    "def get_blip2_caption(image: Image.Image, model_name: str = \"Salesforce/blip2-opt-2.7b-coco\", max_length: int = 75) -> str:\n",
    "    \"\"\"\n",
    "    Generate a caption for an image using BLIP-2.\n",
    "    \n",
    "    Args:\n",
    "        image: PIL Image in RGB format\n",
    "        model_name: BLIP-2 model to use\n",
    "        max_length: Maximum length of generated caption in tokens\n",
    "        \n",
    "    Returns:\n",
    "        str: Generated caption for the image\n",
    "    \"\"\"\n",
    "    device = \"cuda\" if torch.cuda.is_available() else \"cpu\"\n",
    "    \n",
    "    # Initialize model and processor\n",
    "    processor = Blip2Processor.from_pretrained(model_name)\n",
    "    model = Blip2ForConditionalGeneration.from_pretrained(model_name).to(device)\n",
    "    \n",
    "    # Prepare image and generate caption\n",
    "    inputs = processor(images=image, return_tensors=\"pt\").to(device)\n",
    "    generated_ids = model.generate(**inputs, max_length=max_length)\n",
    "    caption = processor.batch_decode(generated_ids, skip_special_tokens=True)[0].strip()\n",
    "    \n",
    "    return caption"
   ]
  },
  {
   "cell_type": "code",
   "execution_count": 4,
   "id": "5f3b958e",
   "metadata": {},
   "outputs": [
    {
     "data": {
      "application/vnd.jupyter.widget-view+json": {
       "model_id": "3fdbcb2353be4e5192455c5f3de2fd3e",
       "version_major": 2,
       "version_minor": 0
      },
      "text/plain": [
       "Loading checkpoint shards:   0%|          | 0/2 [00:00<?, ?it/s]"
      ]
     },
     "metadata": {},
     "output_type": "display_data"
    },
    {
     "name": "stderr",
     "output_type": "stream",
     "text": [
      "Expanding inputs for image tokens in BLIP-2 should be done in processing. Please follow instruction here (https://gist.github.com/zucchini-nlp/e9f20b054fa322f84ac9311d9ab67042) to update your BLIP-2 model. Using processors without these attributes in the config is deprecated and will throw an error in v4.47.\n"
     ]
    },
    {
     "data": {
      "text/plain": [
       "'a boat is floating in the ocean near a shoreline'"
      ]
     },
     "execution_count": 4,
     "metadata": {},
     "output_type": "execute_result"
    }
   ],
   "source": [
    "get_blip2_caption(Image.open(\"/scratch/vonder2/kodak-dataset/06.png\"))"
   ]
  },
  {
   "cell_type": "code",
   "execution_count": null,
   "id": "f3e803c0",
   "metadata": {},
   "outputs": [],
   "source": []
  }
 ],
 "metadata": {
  "kernelspec": {
   "display_name": "Python (diffusers)",
   "language": "python",
   "name": "diffusers"
  },
  "language_info": {
   "codemirror_mode": {
    "name": "ipython",
    "version": 3
   },
   "file_extension": ".py",
   "mimetype": "text/x-python",
   "name": "python",
   "nbconvert_exporter": "python",
   "pygments_lexer": "ipython3",
   "version": "3.8.19"
  }
 },
 "nbformat": 4,
 "nbformat_minor": 5
}
